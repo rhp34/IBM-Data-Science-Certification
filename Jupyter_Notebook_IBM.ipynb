{
 "cells": [
  {
   "cell_type": "markdown",
   "metadata": {},
   "source": [
    "<center>\n",
    "    <img src=\"https://cf-courses-data.s3.us.cloud-object-storage.appdomain.cloud/IBMDeveloperSkillsNetwork-DS0105EN-SkillsNetwork/labs/Module2/images/SN_web_lightmode.png\" width=\"300\" alt=\"cognitiveclass.ai logo\">\n",
    "</center>\n"
   ]
  },
  {
   "cell_type": "markdown",
   "metadata": {},
   "source": [
    "#### Add your code below following the instructions given in the course\n"
   ]
  },
  {
   "cell_type": "markdown",
   "metadata": {},
   "source": [
    "# My Jupyter Notebook"
   ]
  },
  {
   "cell_type": "markdown",
   "metadata": {},
   "source": [
    "### This notebook is for the peer graded assignment on the Tools for Data Science course for the IBM Data Science Certification on coursea"
   ]
  },
  {
   "cell_type": "markdown",
   "metadata": {
    "tags": []
   },
   "source": [
    "#### List of Data Science Languages\n",
    "\n",
    "1. Python\n",
    "2. R\n",
    "3. SQL\n",
    "4. Java\n",
    "5. Julia\n",
    "6. Scala\n",
    "7. C/C++\n",
    "8. Javascript"
   ]
  },
  {
   "cell_type": "markdown",
   "metadata": {},
   "source": [
    "#### List of Data Science Libraries\n",
    "\n",
    "1. TensorFlow\n",
    "2. NumPy\n",
    "3. SciPy\n",
    "4. Pandas\n",
    "5. Matplotlib\n",
    "6. Keras\n",
    "7. SciKit-Learn\n",
    "8. PyTorch"
   ]
  },
  {
   "cell_type": "markdown",
   "metadata": {},
   "source": [
    "|toolID|Tool Name|\n",
    "|------|---------|\n",
    "|1|Apache Spark|\n",
    "|2|D3.js|\n",
    "|3|IBM SPSS|\n",
    "|4|Jupyter Notebook|\n",
    "|5|Matlab|\n",
    "|6|SAS|\n",
    "|7|Weka|\n",
    "|8|TensorFlow|\n"
   ]
  },
  {
   "cell_type": "markdown",
   "metadata": {},
   "source": [
    "The follow are arithmetic expression examples <br>\n",
    "(3 + 4)   the sum of two numbers <br>\n",
    "(15 - 4)  the difference of two numbers <br>\n",
    "(4 * 5)   the product of two numbers <br>\n",
    "(36 / 6)  the quotient of two numbers <br>\n",
    "10        even a number by itself is an arithmetic expression\n"
   ]
  },
  {
   "cell_type": "code",
   "execution_count": 9,
   "metadata": {
    "tags": []
   },
   "outputs": [
    {
     "name": "stdout",
     "output_type": "stream",
     "text": [
      "9\n",
      "20\n"
     ]
    }
   ],
   "source": [
    "def sumOf(x, y):\n",
    "    return x + y\n",
    "\n",
    "def product(x, y):\n",
    "    return x * y\n",
    "\n",
    "addition = sumOf(3, 6)\n",
    "print(addition)\n",
    "\n",
    "multiplication = product(4, 5)\n",
    "print(multiplication)"
   ]
  },
  {
   "cell_type": "code",
   "execution_count": 10,
   "metadata": {},
   "outputs": [
    {
     "name": "stdout",
     "output_type": "stream",
     "text": [
      "1.25 hours\n"
     ]
    }
   ],
   "source": [
    "def minToHours(x):\n",
    "    return x / 60\n",
    "\n",
    "hours = minToHours(75)\n",
    "print(str(hours) + \" hours\")"
   ]
  },
  {
   "cell_type": "markdown",
   "metadata": {},
   "source": [
    "### Objectives <br>\n",
    "\n",
    "The following is a list of objectives in no particular order\n",
    "\n",
    "- Task 4\n",
    "- Task 2\n",
    "- Task 5\n",
    "- Task 1\n",
    "- Task 3"
   ]
  },
  {
   "cell_type": "markdown",
   "metadata": {},
   "source": [
    "#### Author \n",
    "\n",
    "*Raj Patel*"
   ]
  }
 ],
 "metadata": {
  "kernelspec": {
   "display_name": "Python",
   "language": "python",
   "name": "conda-env-python-py"
  },
  "language_info": {
   "codemirror_mode": {
    "name": "ipython",
    "version": 3
   },
   "file_extension": ".py",
   "mimetype": "text/x-python",
   "name": "python",
   "nbconvert_exporter": "python",
   "pygments_lexer": "ipython3",
   "version": "3.7.12"
  }
 },
 "nbformat": 4,
 "nbformat_minor": 4
}
